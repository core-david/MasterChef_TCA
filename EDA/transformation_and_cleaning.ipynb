{
 "cells": [
  {
   "cell_type": "markdown",
   "metadata": {},
   "source": [
    "### Lectura de archivos y librerias"
   ]
  },
  {
   "cell_type": "code",
   "execution_count": 2,
   "metadata": {},
   "outputs": [],
   "source": [
    "import pandas as pd\n",
    "\n",
    "pd.set_option('display.max_columns', None)\n",
    "pd.set_option('display.max_rows', None)"
   ]
  },
  {
   "cell_type": "code",
   "execution_count": 3,
   "metadata": {},
   "outputs": [],
   "source": [
    "# Esta función sirve para visualizar todo el dataframe dentro de jupyter, pues por default se corta\n",
    "from IPython.display import HTML\n",
    "\n",
    "def view(df: pd.DataFrame):\n",
    "    \n",
    "    return HTML(df.head(10).to_html())"
   ]
  },
  {
   "cell_type": "markdown",
   "metadata": {},
   "source": [
    "El archivo 'TCA_iar_Reservaciones.csv' ya tiene las columnas renombradas en base al archivo 'Matriz de Trazabilidad y tablas fuente.xlsx' (realizado por el archivo 'file_transformation.ipynb'). Estos nombres son más intuitivos que los que están presentes en la base de datos por defecto."
   ]
  },
  {
   "cell_type": "code",
   "execution_count": null,
   "metadata": {},
   "outputs": [
    {
     "name": "stderr",
     "output_type": "stream",
     "text": [
      "C:\\Users\\diego\\AppData\\Local\\Temp\\ipykernel_18468\\3965315338.py:1: DtypeWarning: Columns (22,28) have mixed types. Specify dtype option on import or set low_memory=False.\n",
      "  df = pd.read_csv(\"../data_sources/TCA_iar_Reservaciones.csv\")\n"
     ]
    }
   ],
   "source": [
    "df = pd.read_csv(\"../Data_Sources/TCA_iar_Reservaciones.csv\")\n",
    "iar_agencias = pd.read_csv(\"../Data_Sources/TCA_iar_Agencias.csv\")\n",
    "iar_canales = pd.read_csv(\"../Data_Sources/TCA_iar_canales.csv\")\n",
    "iar_estatus_reservaciones = pd.read_csv(\"../Data_Sources/TCA_iar_estatus_reservaciones.csv\")\n",
    "iar_segmentos_comp = pd.read_csv(\"../Data_Sources/TCA_iar_Segmentos_Comp.csv\")\n",
    "iar_tipos_habitacion = pd.read_csv(\"../Data_Sources/TCA_iar_Tipos_Habitaciones.csv\")"
   ]
  },
  {
   "cell_type": "code",
   "execution_count": 6,
   "metadata": {},
   "outputs": [],
   "source": [
    "# df.drop([column for column in df.columns if column.startswith('aa_')])\n",
    "columns = df.columns\n",
    "columns_to_drop = []\n",
    "\n",
    "for column in columns:\n",
    "    \n",
    "    if column.startswith(\"aa_\"):\n",
    "        columns_to_drop.append(column)\n",
    "        \n",
    "df.drop(columns = columns_to_drop, inplace = True)\n",
    "\n",
    "del columns, columns_to_drop"
   ]
  },
  {
   "cell_type": "code",
   "execution_count": 7,
   "metadata": {},
   "outputs": [],
   "source": [
    "tablas_iar = {\n",
    "    'reservacioens': df,\n",
    "    'agencias': iar_agencias,\n",
    "    'canales': iar_canales,\n",
    "    'estatus_reservaciones': iar_estatus_reservaciones,\n",
    "    'segmentos_comp': iar_segmentos_comp,\n",
    "    'tipos_habitacion': iar_tipos_habitacion\n",
    "}"
   ]
  },
  {
   "cell_type": "markdown",
   "metadata": {},
   "source": [
    "### Limpieza de nombres de columnas"
   ]
  },
  {
   "cell_type": "markdown",
   "metadata": {},
   "source": [
    "Reemplazamos carácteres especiales y hacer todas las letras minúsculas"
   ]
  },
  {
   "cell_type": "code",
   "execution_count": 8,
   "metadata": {},
   "outputs": [],
   "source": [
    "def clean_columns(x: pd.Index) -> pd.Index:\n",
    "    \n",
    "    x = (pd.Series(x).apply(lambda y: '_'.join(y.split()))\n",
    "                     .str.lower()\n",
    "                     .str.replace('á', 'a')\n",
    "                     .str.replace('é', 'e')\n",
    "                     .str.replace('í', 'i')\n",
    "                     .str.replace('ó', 'o')\n",
    "                     .str.replace('ú', 'u')\n",
    "                     .str.replace('ñ', 'n')\n",
    "                     .str.replace('º', '')\n",
    "                     .str.replace('°', '')\n",
    "                     .str.replace('(', '')\n",
    "                     .str.replace(')', '')\n",
    "                     .str.replace('-', '')\n",
    "        )\n",
    "    \n",
    "    return pd.Index(x)"
   ]
  },
  {
   "cell_type": "code",
   "execution_count": 9,
   "metadata": {},
   "outputs": [],
   "source": [
    "for nombre, tabla in tablas_iar.items():\n",
    "    tabla.columns = clean_columns(tabla.columns)\n",
    "\n",
    "del tablas_iar"
   ]
  },
  {
   "cell_type": "code",
   "execution_count": 10,
   "metadata": {},
   "outputs": [],
   "source": [
    "# Agencias\n",
    "iar_agencias = iar_agencias[['id_agencia', 'cliente']]\n",
    "iar_agencias = iar_agencias.rename(columns = {'cliente': 'agencia'})\n",
    "df = pd.merge(df, iar_agencias, on = 'id_agencia', how = 'left')\n",
    "df.drop('id_agencia', axis = 1, inplace = True)\n",
    "\n",
    "# Canales\n",
    "iar_canales = iar_canales[['id_canal', 'canal']]\n",
    "df = pd.merge(df, iar_canales, on = 'id_canal', how = 'left')\n",
    "df.drop('id_canal', axis = 1, inplace = True)\n",
    "\n",
    "# Estatus reservaciones\n",
    "iar_estatus_reservaciones = iar_estatus_reservaciones[['id_estatus_reservaciones', 'estatus_de_la_reservacion']]\n",
    "df = pd.merge(df, iar_estatus_reservaciones, on = 'id_estatus_reservaciones', how = 'left')\n",
    "df.drop('id_estatus_reservaciones', axis = 1, inplace = True)\n",
    "\n",
    "# Segmentos complementarios\n",
    "iar_segmentos_comp = iar_segmentos_comp[['id_segmento_comp', 'segmento_alterno']]\n",
    "df = pd.merge(df, iar_segmentos_comp, on = 'id_segmento_comp', how = 'left')\n",
    "df.drop('id_segmento_comp', axis = 1, inplace = True)\n",
    "\n",
    "# Tipos habitacion\n",
    "iar_tipos_habitacion = iar_tipos_habitacion[['id_tipo_habitacion', 'tipo_habitacion_nombre']]\n",
    "df = pd.merge(df, iar_tipos_habitacion, on = 'id_tipo_habitacion', how = 'left')\n",
    "df.drop('id_tipo_habitacion', axis = 1, inplace = True)\n",
    "\n",
    "del iar_agencias, iar_canales, iar_estatus_reservaciones, iar_tipos_habitacion, iar_segmentos_comp#, iar_hotedo, iar_paises_origen, "
   ]
  },
  {
   "cell_type": "markdown",
   "metadata": {},
   "source": [
    "### Eliminar columnas vacias"
   ]
  },
  {
   "cell_type": "code",
   "execution_count": 12,
   "metadata": {},
   "outputs": [
    {
     "name": "stdout",
     "output_type": "stream",
     "text": [
      "<class 'pandas.core.frame.DataFrame'>\n",
      "RangeIndex: 203002 entries, 0 to 203001\n",
      "Data columns (total 39 columns):\n",
      " #   Column                       Non-Null Count   Dtype  \n",
      "---  ------                       --------------   -----  \n",
      " 0   id_reserva                   203002 non-null  int64  \n",
      " 1   fecha_hoy                    203002 non-null  object \n",
      " 2   h_res_fec                    203002 non-null  int64  \n",
      " 3   h_res_fec_ok                 203002 non-null  object \n",
      " 4   h_res_fec_okt                203002 non-null  object \n",
      " 5   h_num_per                    203002 non-null  int64  \n",
      " 6   h_num_adu                    203002 non-null  int64  \n",
      " 7   h_num_men                    203002 non-null  int64  \n",
      " 8   cuartos_noche                203002 non-null  int64  \n",
      " 9   habitaciones                 203002 non-null  int64  \n",
      " 10  id_programa                  203002 non-null  int64  \n",
      " 11  id_paquete                   203002 non-null  int64  \n",
      " 12  id_empresa                   203002 non-null  int64  \n",
      " 13  fecha_llegada                203002 non-null  object \n",
      " 14  h_fec_lld_ok                 203002 non-null  object \n",
      " 15  h_fec_lld_okt                203002 non-null  object \n",
      " 16  h_fec_reg                    203002 non-null  object \n",
      " 17  h_fec_reg_ok                 203002 non-null  object \n",
      " 18  h_fec_reg_okt                203002 non-null  object \n",
      " 19  fecha_salida                 203002 non-null  object \n",
      " 20  fecha_confirmacion_dormidas  203002 non-null  object \n",
      " 21  fecha                        203002 non-null  object \n",
      " 22  id_pais_origen               203002 non-null  int64  \n",
      " 23  cliente_disp                 203002 non-null  int64  \n",
      " 24  reservacion                  203002 non-null  int64  \n",
      " 25  h_can_res                    203002 non-null  object \n",
      " 26  n_de_confirmacion            203002 non-null  object \n",
      " 27  estado                       203002 non-null  object \n",
      " 28  codigo_postal                203002 non-null  object \n",
      " 29  ingresos_por_habitacion      203002 non-null  float64\n",
      " 30  moneda_cve                   203002 non-null  int64  \n",
      " 31  h_ult_cam_fec                203002 non-null  object \n",
      " 32  fecha_confirmacion_pickup    203002 non-null  object \n",
      " 33  h_ult_cam_fec_okt            203002 non-null  object \n",
      " 34  agencia                      203002 non-null  object \n",
      " 35  canal                        203002 non-null  object \n",
      " 36  estatus_de_la_reservacion    203002 non-null  object \n",
      " 37  segmento_alterno             203002 non-null  object \n",
      " 38  tipo_habitacion_nombre       203002 non-null  object \n",
      "dtypes: float64(1), int64(14), object(24)\n",
      "memory usage: 60.4+ MB\n"
     ]
    }
   ],
   "source": [
    "df.info()"
   ]
  },
  {
   "cell_type": "markdown",
   "metadata": {},
   "source": [
    "Se observan dos columnas que son 100% valores nulos, es decir, están vacías."
   ]
  },
  {
   "cell_type": "code",
   "execution_count": 11,
   "metadata": {},
   "outputs": [
    {
     "data": {
      "text/plain": [
       "0"
      ]
     },
     "execution_count": 11,
     "metadata": {},
     "output_type": "execute_result"
    }
   ],
   "source": [
    "df.dropna(how = 'all', axis = 1, inplace = True)\n",
    "df.isna().sum().sum()"
   ]
  },
  {
   "cell_type": "markdown",
   "metadata": {},
   "source": [
    "### Revision de registros duplicados y su eliminacion"
   ]
  },
  {
   "cell_type": "code",
   "execution_count": 13,
   "metadata": {},
   "outputs": [],
   "source": [
    "duplicated_data = df.drop('id_reserva', axis = 1).duplicated()\n",
    "duplicated_data = duplicated_data[duplicated_data]\n",
    "# duplicated_data.sum()"
   ]
  },
  {
   "cell_type": "code",
   "execution_count": 14,
   "metadata": {},
   "outputs": [],
   "source": [
    "df.drop(duplicated_data.index, inplace = True)"
   ]
  },
  {
   "cell_type": "markdown",
   "metadata": {},
   "source": [
    "### Seleccion de columnas de fecha y sus comprobaciones"
   ]
  },
  {
   "cell_type": "code",
   "execution_count": 15,
   "metadata": {},
   "outputs": [],
   "source": [
    "def format_date_columns(df, date_columns):\n",
    "    \n",
    "    for column in date_columns:\n",
    "        df[column] = df[column].astype(str).str.strip()\n",
    "        df[column] = pd.to_datetime(df[column], errors = 'coerce').dt.strftime('%Y%m%d')\n",
    "    \n",
    "    return df"
   ]
  },
  {
   "cell_type": "code",
   "execution_count": 16,
   "metadata": {},
   "outputs": [],
   "source": [
    "date_columns = ['fecha_hoy',\n",
    "                'h_res_fec',\n",
    "                'h_res_fec_ok',\n",
    "                'h_res_fec_okt',\n",
    "                'fecha_llegada',\n",
    "                'h_fec_lld_ok',\n",
    "                'h_fec_lld_okt',\n",
    "                'h_fec_reg',\n",
    "                'h_fec_reg_ok',\n",
    "                'h_fec_reg_okt',\n",
    "                'fecha_salida',\n",
    "                'fecha_confirmacion_dormidas',\n",
    "                'fecha',\n",
    "                'h_ult_cam_fec',\n",
    "                'fecha_confirmacion_pickup',\n",
    "                'h_ult_cam_fec_okt']\n",
    "\n",
    "df = format_date_columns(df = df, date_columns = date_columns)"
   ]
  },
  {
   "cell_type": "code",
   "execution_count": 17,
   "metadata": {},
   "outputs": [],
   "source": [
    "def date_comparison_check(df_subset: pd.DataFrame):\n",
    "    \n",
    "    return df_subset[~df_subset.nunique(axis = 1).eq(1)].index.tolist()"
   ]
  },
  {
   "cell_type": "code",
   "execution_count": 18,
   "metadata": {},
   "outputs": [
    {
     "data": {
      "text/plain": [
       "70559"
      ]
     },
     "execution_count": 18,
     "metadata": {},
     "output_type": "execute_result"
    }
   ],
   "source": [
    "column_check_reservacion = date_columns[0:4]\n",
    "mismatched_fechas_reservacion = date_comparison_check(df[column_check_reservacion])\n",
    "len(mismatched_fechas_reservacion)"
   ]
  },
  {
   "cell_type": "code",
   "execution_count": 19,
   "metadata": {},
   "outputs": [
    {
     "data": {
      "text/plain": [
       "0"
      ]
     },
     "execution_count": 19,
     "metadata": {},
     "output_type": "execute_result"
    }
   ],
   "source": [
    "column_check_llegada = date_columns[4:7]\n",
    "mismatched_fechas_llegada = date_comparison_check(df[column_check_llegada])\n",
    "len(mismatched_fechas_llegada)"
   ]
  },
  {
   "cell_type": "code",
   "execution_count": 20,
   "metadata": {},
   "outputs": [
    {
     "data": {
      "text/plain": [
       "0"
      ]
     },
     "execution_count": 20,
     "metadata": {},
     "output_type": "execute_result"
    }
   ],
   "source": [
    "column_check_registro = date_columns[7:10]\n",
    "mismatched_fechas_registro = date_comparison_check(df[column_check_registro])\n",
    "len(mismatched_fechas_registro)"
   ]
  },
  {
   "cell_type": "code",
   "execution_count": 21,
   "metadata": {},
   "outputs": [
    {
     "data": {
      "text/plain": [
       "0"
      ]
     },
     "execution_count": 21,
     "metadata": {},
     "output_type": "execute_result"
    }
   ],
   "source": [
    "column_check_salida = date_columns[10:13]\n",
    "mismatched_fechas_salida = date_comparison_check(df[column_check_salida])\n",
    "len(mismatched_fechas_salida)"
   ]
  },
  {
   "cell_type": "code",
   "execution_count": 22,
   "metadata": {},
   "outputs": [
    {
     "data": {
      "text/plain": [
       "0"
      ]
     },
     "execution_count": 22,
     "metadata": {},
     "output_type": "execute_result"
    }
   ],
   "source": [
    "column_check_ultima = date_columns[13:]\n",
    "mismatched_fechas_ultima = date_comparison_check(df[column_check_ultima])\n",
    "len(mismatched_fechas_ultima)"
   ]
  },
  {
   "cell_type": "markdown",
   "metadata": {},
   "source": [
    "Mismatches en la fecha de reservacion"
   ]
  },
  {
   "cell_type": "code",
   "execution_count": 23,
   "metadata": {},
   "outputs": [
    {
     "data": {
      "text/html": [
       "<table border=\"1\" class=\"dataframe\">\n",
       "  <thead>\n",
       "    <tr style=\"text-align: right;\">\n",
       "      <th></th>\n",
       "      <th>fecha_hoy</th>\n",
       "      <th>h_res_fec</th>\n",
       "      <th>h_res_fec_ok</th>\n",
       "      <th>h_res_fec_okt</th>\n",
       "    </tr>\n",
       "  </thead>\n",
       "  <tbody>\n",
       "    <tr>\n",
       "      <th>102199</th>\n",
       "      <td>20200816</td>\n",
       "      <td>20190816</td>\n",
       "      <td>20190816</td>\n",
       "      <td>20190816</td>\n",
       "    </tr>\n",
       "    <tr>\n",
       "      <th>102200</th>\n",
       "      <td>20201022</td>\n",
       "      <td>20191022</td>\n",
       "      <td>20191022</td>\n",
       "      <td>20191022</td>\n",
       "    </tr>\n",
       "    <tr>\n",
       "      <th>102201</th>\n",
       "      <td>20201028</td>\n",
       "      <td>20191028</td>\n",
       "      <td>20191028</td>\n",
       "      <td>20191028</td>\n",
       "    </tr>\n",
       "    <tr>\n",
       "      <th>102202</th>\n",
       "      <td>20201028</td>\n",
       "      <td>20191028</td>\n",
       "      <td>20191028</td>\n",
       "      <td>20191028</td>\n",
       "    </tr>\n",
       "    <tr>\n",
       "      <th>102203</th>\n",
       "      <td>20201028</td>\n",
       "      <td>20191028</td>\n",
       "      <td>20191028</td>\n",
       "      <td>20191028</td>\n",
       "    </tr>\n",
       "    <tr>\n",
       "      <th>102204</th>\n",
       "      <td>20200805</td>\n",
       "      <td>20190805</td>\n",
       "      <td>20190805</td>\n",
       "      <td>20190805</td>\n",
       "    </tr>\n",
       "    <tr>\n",
       "      <th>102205</th>\n",
       "      <td>20200719</td>\n",
       "      <td>20190719</td>\n",
       "      <td>20190719</td>\n",
       "      <td>20190719</td>\n",
       "    </tr>\n",
       "    <tr>\n",
       "      <th>102206</th>\n",
       "      <td>20200719</td>\n",
       "      <td>20190719</td>\n",
       "      <td>20190719</td>\n",
       "      <td>20190719</td>\n",
       "    </tr>\n",
       "    <tr>\n",
       "      <th>102207</th>\n",
       "      <td>20200719</td>\n",
       "      <td>20190719</td>\n",
       "      <td>20190719</td>\n",
       "      <td>20190719</td>\n",
       "    </tr>\n",
       "    <tr>\n",
       "      <th>102208</th>\n",
       "      <td>20200506</td>\n",
       "      <td>20190506</td>\n",
       "      <td>20190506</td>\n",
       "      <td>20190506</td>\n",
       "    </tr>\n",
       "  </tbody>\n",
       "</table>"
      ],
      "text/plain": [
       "<IPython.core.display.HTML object>"
      ]
     },
     "execution_count": 23,
     "metadata": {},
     "output_type": "execute_result"
    }
   ],
   "source": [
    "view(df[column_check_reservacion].loc[mismatched_fechas_reservacion])"
   ]
  },
  {
   "cell_type": "markdown",
   "metadata": {},
   "source": [
    "Parece ser que en la columna 'fecha_hoy' esta un año adelantado en algunas fechas se verifica esto. SE ELIMINA"
   ]
  },
  {
   "cell_type": "code",
   "execution_count": 24,
   "metadata": {},
   "outputs": [],
   "source": [
    "columnas_fechas_eliminar = ['fecha_hoy']"
   ]
  },
  {
   "cell_type": "code",
   "execution_count": 25,
   "metadata": {},
   "outputs": [],
   "source": [
    "df.drop(columns = columnas_fechas_eliminar, inplace = True)"
   ]
  },
  {
   "cell_type": "markdown",
   "metadata": {},
   "source": [
    "Ya no hay columnas con datos erroneos, ahora solo nos quedamos con una sola fecha"
   ]
  },
  {
   "cell_type": "code",
   "execution_count": 26,
   "metadata": {},
   "outputs": [],
   "source": [
    "date_columns = [col for col in date_columns if col not in columnas_fechas_eliminar]"
   ]
  },
  {
   "cell_type": "code",
   "execution_count": 27,
   "metadata": {},
   "outputs": [],
   "source": [
    "positions_to_keep = [0, 3, 6, 9, 13]\n",
    "columns_to_keep = [date_columns[i] for i in positions_to_keep]\n",
    "df.drop(columns = [col for col in date_columns if col not in columns_to_keep], inplace = True)"
   ]
  },
  {
   "cell_type": "markdown",
   "metadata": {},
   "source": [
    "### Eliminar columnas irrelevantes para el analisis\n",
    "- Columnas con desviacion estandar igual a 0 (mismo valor en todas las filas)\n",
    "- Columnas insignificantes para la serie de tiempo y tda"
   ]
  },
  {
   "cell_type": "code",
   "execution_count": 28,
   "metadata": {},
   "outputs": [
    {
     "data": {
      "text/html": [
       "<div>\n",
       "<style scoped>\n",
       "    .dataframe tbody tr th:only-of-type {\n",
       "        vertical-align: middle;\n",
       "    }\n",
       "\n",
       "    .dataframe tbody tr th {\n",
       "        vertical-align: top;\n",
       "    }\n",
       "\n",
       "    .dataframe thead th {\n",
       "        text-align: right;\n",
       "    }\n",
       "</style>\n",
       "<table border=\"1\" class=\"dataframe\">\n",
       "  <thead>\n",
       "    <tr style=\"text-align: right;\">\n",
       "      <th></th>\n",
       "      <th>id_reserva</th>\n",
       "      <th>h_num_per</th>\n",
       "      <th>h_num_adu</th>\n",
       "      <th>h_num_men</th>\n",
       "      <th>cuartos_noche</th>\n",
       "      <th>habitaciones</th>\n",
       "      <th>id_programa</th>\n",
       "      <th>id_paquete</th>\n",
       "      <th>id_empresa</th>\n",
       "      <th>id_pais_origen</th>\n",
       "      <th>cliente_disp</th>\n",
       "      <th>reservacion</th>\n",
       "      <th>ingresos_por_habitacion</th>\n",
       "      <th>moneda_cve</th>\n",
       "    </tr>\n",
       "  </thead>\n",
       "  <tbody>\n",
       "    <tr>\n",
       "      <th>count</th>\n",
       "      <td>145893.000000</td>\n",
       "      <td>145893.000000</td>\n",
       "      <td>145893.000000</td>\n",
       "      <td>145893.000000</td>\n",
       "      <td>145893.000000</td>\n",
       "      <td>145893.000000</td>\n",
       "      <td>145893.000000</td>\n",
       "      <td>145893.000000</td>\n",
       "      <td>145893.0</td>\n",
       "      <td>145893.000000</td>\n",
       "      <td>145893.000000</td>\n",
       "      <td>145893.000000</td>\n",
       "      <td>1.458930e+05</td>\n",
       "      <td>145893.0</td>\n",
       "    </tr>\n",
       "    <tr>\n",
       "      <th>mean</th>\n",
       "      <td>100804.750296</td>\n",
       "      <td>1.260725</td>\n",
       "      <td>1.142029</td>\n",
       "      <td>0.043491</td>\n",
       "      <td>1.815234</td>\n",
       "      <td>0.520450</td>\n",
       "      <td>0.999883</td>\n",
       "      <td>1.315587</td>\n",
       "      <td>1.0</td>\n",
       "      <td>156.447993</td>\n",
       "      <td>1.142029</td>\n",
       "      <td>0.516365</td>\n",
       "      <td>4.191225e+03</td>\n",
       "      <td>1.0</td>\n",
       "    </tr>\n",
       "    <tr>\n",
       "      <th>std</th>\n",
       "      <td>59181.695722</td>\n",
       "      <td>1.434976</td>\n",
       "      <td>1.244432</td>\n",
       "      <td>0.291197</td>\n",
       "      <td>3.220616</td>\n",
       "      <td>0.510361</td>\n",
       "      <td>0.010794</td>\n",
       "      <td>0.473228</td>\n",
       "      <td>0.0</td>\n",
       "      <td>11.994259</td>\n",
       "      <td>1.244432</td>\n",
       "      <td>0.499734</td>\n",
       "      <td>6.873446e+03</td>\n",
       "      <td>0.0</td>\n",
       "    </tr>\n",
       "    <tr>\n",
       "      <th>min</th>\n",
       "      <td>0.000000</td>\n",
       "      <td>0.000000</td>\n",
       "      <td>0.000000</td>\n",
       "      <td>0.000000</td>\n",
       "      <td>0.000000</td>\n",
       "      <td>0.000000</td>\n",
       "      <td>0.000000</td>\n",
       "      <td>0.000000</td>\n",
       "      <td>1.0</td>\n",
       "      <td>0.000000</td>\n",
       "      <td>0.000000</td>\n",
       "      <td>0.000000</td>\n",
       "      <td>-3.091000e+04</td>\n",
       "      <td>1.0</td>\n",
       "    </tr>\n",
       "    <tr>\n",
       "      <th>25%</th>\n",
       "      <td>51841.000000</td>\n",
       "      <td>0.000000</td>\n",
       "      <td>0.000000</td>\n",
       "      <td>0.000000</td>\n",
       "      <td>0.000000</td>\n",
       "      <td>0.000000</td>\n",
       "      <td>1.000000</td>\n",
       "      <td>1.000000</td>\n",
       "      <td>1.0</td>\n",
       "      <td>157.000000</td>\n",
       "      <td>0.000000</td>\n",
       "      <td>0.000000</td>\n",
       "      <td>0.000000e+00</td>\n",
       "      <td>1.0</td>\n",
       "    </tr>\n",
       "    <tr>\n",
       "      <th>50%</th>\n",
       "      <td>98559.000000</td>\n",
       "      <td>1.000000</td>\n",
       "      <td>1.000000</td>\n",
       "      <td>0.000000</td>\n",
       "      <td>1.000000</td>\n",
       "      <td>1.000000</td>\n",
       "      <td>1.000000</td>\n",
       "      <td>1.000000</td>\n",
       "      <td>1.0</td>\n",
       "      <td>157.000000</td>\n",
       "      <td>1.000000</td>\n",
       "      <td>1.000000</td>\n",
       "      <td>0.000000e+00</td>\n",
       "      <td>1.0</td>\n",
       "    </tr>\n",
       "    <tr>\n",
       "      <th>75%</th>\n",
       "      <td>153370.000000</td>\n",
       "      <td>2.000000</td>\n",
       "      <td>2.000000</td>\n",
       "      <td>0.000000</td>\n",
       "      <td>3.000000</td>\n",
       "      <td>1.000000</td>\n",
       "      <td>1.000000</td>\n",
       "      <td>2.000000</td>\n",
       "      <td>1.0</td>\n",
       "      <td>157.000000</td>\n",
       "      <td>2.000000</td>\n",
       "      <td>1.000000</td>\n",
       "      <td>7.452000e+03</td>\n",
       "      <td>1.0</td>\n",
       "    </tr>\n",
       "    <tr>\n",
       "      <th>max</th>\n",
       "      <td>203001.000000</td>\n",
       "      <td>32.000000</td>\n",
       "      <td>15.000000</td>\n",
       "      <td>15.000000</td>\n",
       "      <td>687.000000</td>\n",
       "      <td>6.000000</td>\n",
       "      <td>1.000000</td>\n",
       "      <td>5.000000</td>\n",
       "      <td>1.0</td>\n",
       "      <td>232.000000</td>\n",
       "      <td>15.000000</td>\n",
       "      <td>1.000000</td>\n",
       "      <td>1.033056e+06</td>\n",
       "      <td>1.0</td>\n",
       "    </tr>\n",
       "  </tbody>\n",
       "</table>\n",
       "</div>"
      ],
      "text/plain": [
       "          id_reserva      h_num_per      h_num_adu      h_num_men  \\\n",
       "count  145893.000000  145893.000000  145893.000000  145893.000000   \n",
       "mean   100804.750296       1.260725       1.142029       0.043491   \n",
       "std     59181.695722       1.434976       1.244432       0.291197   \n",
       "min         0.000000       0.000000       0.000000       0.000000   \n",
       "25%     51841.000000       0.000000       0.000000       0.000000   \n",
       "50%     98559.000000       1.000000       1.000000       0.000000   \n",
       "75%    153370.000000       2.000000       2.000000       0.000000   \n",
       "max    203001.000000      32.000000      15.000000      15.000000   \n",
       "\n",
       "       cuartos_noche   habitaciones    id_programa     id_paquete  id_empresa  \\\n",
       "count  145893.000000  145893.000000  145893.000000  145893.000000    145893.0   \n",
       "mean        1.815234       0.520450       0.999883       1.315587         1.0   \n",
       "std         3.220616       0.510361       0.010794       0.473228         0.0   \n",
       "min         0.000000       0.000000       0.000000       0.000000         1.0   \n",
       "25%         0.000000       0.000000       1.000000       1.000000         1.0   \n",
       "50%         1.000000       1.000000       1.000000       1.000000         1.0   \n",
       "75%         3.000000       1.000000       1.000000       2.000000         1.0   \n",
       "max       687.000000       6.000000       1.000000       5.000000         1.0   \n",
       "\n",
       "       id_pais_origen   cliente_disp    reservacion  ingresos_por_habitacion  \\\n",
       "count   145893.000000  145893.000000  145893.000000             1.458930e+05   \n",
       "mean       156.447993       1.142029       0.516365             4.191225e+03   \n",
       "std         11.994259       1.244432       0.499734             6.873446e+03   \n",
       "min          0.000000       0.000000       0.000000            -3.091000e+04   \n",
       "25%        157.000000       0.000000       0.000000             0.000000e+00   \n",
       "50%        157.000000       1.000000       1.000000             0.000000e+00   \n",
       "75%        157.000000       2.000000       1.000000             7.452000e+03   \n",
       "max        232.000000      15.000000       1.000000             1.033056e+06   \n",
       "\n",
       "       moneda_cve  \n",
       "count    145893.0  \n",
       "mean          1.0  \n",
       "std           0.0  \n",
       "min           1.0  \n",
       "25%           1.0  \n",
       "50%           1.0  \n",
       "75%           1.0  \n",
       "max           1.0  "
      ]
     },
     "execution_count": 28,
     "metadata": {},
     "output_type": "execute_result"
    }
   ],
   "source": [
    "df.describe()"
   ]
  },
  {
   "cell_type": "code",
   "execution_count": 29,
   "metadata": {},
   "outputs": [],
   "source": [
    "constant_columns = df.std(numeric_only = True)[lambda x: x == 0].index\n",
    "df.drop(columns = constant_columns, inplace = True)"
   ]
  },
  {
   "cell_type": "markdown",
   "metadata": {},
   "source": [
    "Comprobamos que las columnas 'reservacion' y 'aa_reservacion' tienen valores inversos en todas las filas, por ende eliminamos una de ellas"
   ]
  },
  {
   "cell_type": "code",
   "execution_count": 30,
   "metadata": {},
   "outputs": [
    {
     "data": {
      "text/plain": [
       "id_programa\n",
       "1    145876\n",
       "0        17\n",
       "Name: count, dtype: int64"
      ]
     },
     "execution_count": 30,
     "metadata": {},
     "output_type": "execute_result"
    }
   ],
   "source": [
    "df.id_programa.value_counts()"
   ]
  },
  {
   "cell_type": "markdown",
   "metadata": {},
   "source": [
    "Determinamos que es irrelevante esta columna"
   ]
  },
  {
   "cell_type": "code",
   "execution_count": 31,
   "metadata": {},
   "outputs": [],
   "source": [
    "columnas_eliminar = ['id_programa']"
   ]
  },
  {
   "cell_type": "code",
   "execution_count": 32,
   "metadata": {},
   "outputs": [
    {
     "data": {
      "text/plain": [
       "id_paquete\n",
       "1    100117\n",
       "2     45635\n",
       "5        87\n",
       "3        35\n",
       "0        17\n",
       "4         2\n",
       "Name: count, dtype: int64"
      ]
     },
     "execution_count": 32,
     "metadata": {},
     "output_type": "execute_result"
    }
   ],
   "source": [
    "df.id_paquete.value_counts()"
   ]
  },
  {
   "cell_type": "markdown",
   "metadata": {},
   "source": [
    "No tenemos informacion de esta columna y esta muy dispareja. Determinamos que no procederemos a analizar esta columna"
   ]
  },
  {
   "cell_type": "code",
   "execution_count": 33,
   "metadata": {},
   "outputs": [],
   "source": [
    "columnas_eliminar += ['id_paquete']"
   ]
  },
  {
   "cell_type": "code",
   "execution_count": 34,
   "metadata": {},
   "outputs": [
    {
     "data": {
      "text/plain": [
       "h_can_res\n",
       "00    74512\n",
       "03    36460\n",
       "09    17581\n",
       "06     6738\n",
       "DI     4665\n",
       "07     2057\n",
       "12     1960\n",
       "08      765\n",
       "04      579\n",
       "10      314\n",
       "02      141\n",
       "01       63\n",
       "05       37\n",
       "         17\n",
       "11        4\n",
       "Name: count, dtype: int64"
      ]
     },
     "execution_count": 34,
     "metadata": {},
     "output_type": "execute_result"
    }
   ],
   "source": [
    "df.h_can_res.value_counts()"
   ]
  },
  {
   "cell_type": "markdown",
   "metadata": {},
   "source": [
    "No tenemos informacion de esta columna. Determinamos que no procederemos a analizar esta columna"
   ]
  },
  {
   "cell_type": "code",
   "execution_count": 35,
   "metadata": {},
   "outputs": [],
   "source": [
    "columnas_eliminar += ['h_can_res']"
   ]
  },
  {
   "cell_type": "markdown",
   "metadata": {},
   "source": [
    "Estas columnas no presentan relevancia para el analisis."
   ]
  },
  {
   "cell_type": "code",
   "execution_count": 36,
   "metadata": {},
   "outputs": [
    {
     "data": {
      "text/plain": [
       "Index(['id_reserva', 'h_res_fec', 'h_num_per', 'h_num_adu', 'h_num_men',\n",
       "       'cuartos_noche', 'habitaciones', 'id_programa', 'id_paquete',\n",
       "       'fecha_llegada', 'h_fec_reg', 'fecha_salida', 'id_pais_origen',\n",
       "       'cliente_disp', 'reservacion', 'h_can_res', 'n_de_confirmacion',\n",
       "       'estado', 'codigo_postal', 'ingresos_por_habitacion',\n",
       "       'fecha_confirmacion_pickup', 'agencia', 'canal',\n",
       "       'estatus_de_la_reservacion', 'segmento_alterno',\n",
       "       'tipo_habitacion_nombre'],\n",
       "      dtype='object')"
      ]
     },
     "execution_count": 36,
     "metadata": {},
     "output_type": "execute_result"
    }
   ],
   "source": [
    "df.columns"
   ]
  },
  {
   "cell_type": "code",
   "execution_count": 37,
   "metadata": {},
   "outputs": [],
   "source": [
    "columnas_eliminar += ['n_de_confirmacion', 'codigo_postal', 'id_pais_origen', 'estado']"
   ]
  },
  {
   "cell_type": "code",
   "execution_count": 38,
   "metadata": {},
   "outputs": [],
   "source": [
    "df.drop(columns = columnas_eliminar, inplace = True)"
   ]
  },
  {
   "cell_type": "markdown",
   "metadata": {},
   "source": [
    "### Renombrar columnas"
   ]
  },
  {
   "cell_type": "code",
   "execution_count": 39,
   "metadata": {},
   "outputs": [],
   "source": [
    "df.rename(columns = {\n",
    "    'h_res_fec': 'fecha_reservacion',\n",
    "    'h_fec_reg': 'fecha_registro',\n",
    "    'h_num_per': 'numero_personas',\n",
    "    'h_num_adu': 'numero_adultos',\n",
    "    'h_num_men': 'numero_menores',\n",
    "    'cliente_disp': 'cliente_disponible',\n",
    "    'cuartos_noche': 'cantidad_noches'\n",
    "}, inplace = True)"
   ]
  },
  {
   "cell_type": "markdown",
   "metadata": {},
   "source": [
    "### Revisar por duplicaciones post-edicion y Guardar archivo para los analisis"
   ]
  },
  {
   "cell_type": "code",
   "execution_count": 40,
   "metadata": {},
   "outputs": [],
   "source": [
    "duplicated_data = df.drop('id_reserva', axis = 1).duplicated()\n",
    "duplicated_data = duplicated_data[duplicated_data]\n",
    "# duplicated_data.sum()"
   ]
  },
  {
   "cell_type": "code",
   "execution_count": 41,
   "metadata": {},
   "outputs": [],
   "source": [
    "df.drop(duplicated_data.index, inplace = True)"
   ]
  },
  {
   "cell_type": "code",
   "execution_count": null,
   "metadata": {},
   "outputs": [],
   "source": [
    "df.to_csv(\"../Data_Sources/EDA_data.csv\", index = False)"
   ]
  }
 ],
 "metadata": {
  "kernelspec": {
   "display_name": "Python 3",
   "language": "python",
   "name": "python3"
  },
  "language_info": {
   "codemirror_mode": {
    "name": "ipython",
    "version": 3
   },
   "file_extension": ".py",
   "mimetype": "text/x-python",
   "name": "python",
   "nbconvert_exporter": "python",
   "pygments_lexer": "ipython3",
   "version": "3.11.4"
  }
 },
 "nbformat": 4,
 "nbformat_minor": 2
}
