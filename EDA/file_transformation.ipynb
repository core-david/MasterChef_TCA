{
 "cells": [
  {
   "cell_type": "code",
   "execution_count": 12,
   "id": "7e69c0ac",
   "metadata": {},
   "outputs": [],
   "source": [
    "table_names = [\n",
    "    \"TCA_iar_Reservaciones\",\n",
    "    \"TCA_iar_Agencias\",\n",
    "    \"TCA_iar_canales\",\n",
    "    \"TCA_iar_estatus_reservaciones\",\n",
    "    \"TCA_iar_Segmentos_Comp\",\n",
    "    \"TCA_iar_Tipos_Habitaciones\"\n",
    "]"
   ]
  },
  {
   "cell_type": "code",
   "execution_count": null,
   "id": "7cffa854",
   "metadata": {},
   "outputs": [
    {
     "name": "stdout",
     "output_type": "stream",
     "text": [
      "\n",
      "Processing TCA_iar_Reservaciones...\n",
      "Successfully formatted and saved ../data_sources/TCA_iar_Reservaciones.csv\n",
      "\n",
      "Processing TCA_iar_Agencias...\n",
      "Successfully formatted and saved ../data_sources/TCA_iar_Agencias.csv\n",
      "\n",
      "Processing TCA_iar_canales...\n",
      "Successfully formatted and saved ../data_sources/TCA_iar_canales.csv\n",
      "\n",
      "Processing TCA_iar_estatus_reservaciones...\n",
      "Successfully formatted and saved ../data_sources/TCA_iar_estatus_reservaciones.csv\n",
      "\n",
      "Processing TCA_iar_Segmentos_Comp...\n",
      "Successfully formatted and saved ../data_sources/TCA_iar_Segmentos_Comp.csv\n",
      "\n",
      "Processing TCA_iar_Tipos_Habitaciones...\n",
      "Successfully formatted and saved ../data_sources/TCA_iar_Tipos_Habitaciones.csv\n"
     ]
    }
   ],
   "source": [
    "import os\n",
    "import pandas as pd\n",
    "import zipfile\n",
    "\n",
    "# Load the dictionary file once\n",
    "dictionary_df = pd.read_excel(\"../Data_Sources/Matriz de Trazabilidad y tablas fuente.xlsx\")\n",
    "\n",
    "def column_renamer(df, table_name):\n",
    "    if table_name.startswith(\"TCA_\"):\n",
    "        suffix = table_name.split('_', 1)[1]\n",
    "        columns_to_rename = {}\n",
    "        \n",
    "        for _, row in dictionary_df[dictionary_df['Tabla ODS'] == suffix].iterrows():\n",
    "            if row['Campo Tabla ODS'] in df.columns:\n",
    "                columns_to_rename[row['Campo Tabla ODS']] = row['Nombre Indicador o DIMENSIÓN']\n",
    "        \n",
    "        df.rename(columns=columns_to_rename, inplace=True)\n",
    "    else:\n",
    "        print(f\"Error: Incorrect table name {table_name}\")\n",
    "    return df\n",
    "\n",
    "for table_name in table_names:\n",
    "    print(f\"\\nProcessing {table_name}...\")\n",
    "\n",
    "    zip_file = f\"../Data_Sources/{table_name}.zip\"\n",
    "    csv_file = f\"../Data_Sources/{table_name}.csv\"\n",
    "\n",
    "    # Unzip if necessary\n",
    "    if zip_file in os.listdir('.'):\n",
    "        if csv_file not in os.listdir('.'):\n",
    "            try:\n",
    "                with zipfile.ZipFile(zip_file, 'r') as zip_ref:\n",
    "                    zip_ref.extract(csv_file)\n",
    "                print(f\"Extracted {csv_file}\")\n",
    "            except Exception as e:\n",
    "                print(f\"Failed to extract {csv_file}: {e}\")\n",
    "                continue\n",
    "\n",
    "    # Read and rename columns\n",
    "    try:\n",
    "        raw_data = pd.read_csv(csv_file, low_memory=False)\n",
    "        formatted_data = column_renamer(raw_data, table_name)\n",
    "        formatted_data.to_csv(csv_file, index=False)\n",
    "        print(f\"Successfully formatted and saved {csv_file}\")\n",
    "    except FileNotFoundError:\n",
    "        print(f\"{csv_file} not found.\")\n",
    "    except Exception as e:\n",
    "        print(f\"An error occurred for {table_name}: {e}\")\n"
   ]
  },
  {
   "cell_type": "code",
   "execution_count": null,
   "id": "dbd16f1d",
   "metadata": {},
   "outputs": [],
   "source": []
  }
 ],
 "metadata": {
  "kernelspec": {
   "display_name": "Python 3",
   "language": "python",
   "name": "python3"
  },
  "language_info": {
   "codemirror_mode": {
    "name": "ipython",
    "version": 3
   },
   "file_extension": ".py",
   "mimetype": "text/x-python",
   "name": "python",
   "nbconvert_exporter": "python",
   "pygments_lexer": "ipython3",
   "version": "3.11.4"
  }
 },
 "nbformat": 4,
 "nbformat_minor": 5
}
